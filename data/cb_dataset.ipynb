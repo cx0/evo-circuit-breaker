{
 "cells": [
  {
   "cell_type": "markdown",
   "metadata": {},
   "source": [
    "## Circuit Breaker Dataset\n",
    "- **Target species**: *Salmonella enterica*\n",
    "- **Goal**: Block or short-circuit pathogenic sequences from *Salmonella enterica* (i.e., SPI gene clusters).\n",
    "- **Intuition**: Use 16S rRNA and plasmid sequences from *Salmonella enterica* to create a circuit breaker dataset. Use corresponding sequences from other species as negative examples in the retain dataset."
   ]
  },
  {
   "cell_type": "markdown",
   "metadata": {},
   "source": [
    "- Representative bacterial genomes for each species from GTDB (Genome Taxonomy Database v214.1) were used to train the original Evo model.\n",
    "- Representative reference genome for *Salmonella enterica* is [GCF_000006945.2](https://gtdb.ecogenomic.org/genome?gid=GCF_000006945.2) that represents a total of 13,454 genomes in this species cluster. \n",
    "- Metadata for the representative genomes can be found on the [GTDB FTP server](https://data.ace.uq.edu.au/public/gtdb/data/releases/release214/214.1/auxillary_files/)."
   ]
  },
  {
   "cell_type": "markdown",
   "metadata": {},
   "source": [
    "### Extract 16S rRNA sequences from GTDB S. enterica genome cluster\n",
    "- Subset the GTDB S. enterica genomes by representative genome and NCBI taxonomy name.\n",
    "- Use the SSU SILVA taxonomy mapping to extract strain specific 16S rRNA sequences from the [SILVA](https://www.arb-silva.de/) high-quality ribosomal RNA database."
   ]
  },
  {
   "cell_type": "code",
   "execution_count": null,
   "metadata": {},
   "outputs": [],
   "source": [
    "import pandas as pd\n",
    "columns_to_use = ['accession', 'gtdb_representative', 'gtdb_genome_representative', 'gtdb_taxonomy', 'ncbi_taxonomy', 'ncbi_strain_identifiers', 'ssu_silva_taxonomy']\n",
    "df = pd.read_csv('/temp/bac120_metadata_r214.tsv.gz', sep='\\t', header=0, low_memory=False,\n",
    "                 usecols=columns_to_use)\n",
    "df.head()"
   ]
  },
  {
   "cell_type": "code",
   "execution_count": null,
   "metadata": {},
   "outputs": [],
   "source": [
    "genome_representative = 'RS_' + 'GCF_000006945.2'\n",
    "ncbi_taxonomy = \"d__Bacteria;p__Proteobacteria;c__Gammaproteobacteria;o__Enterobacterales;f__Enterobacteriaceae;g__Salmonella;s__Salmonella enterica\"\n",
    "\n",
    "df_subset = df[(df['gtdb_genome_representative'] == genome_representative) & (df['ncbi_taxonomy'] == ncbi_taxonomy)]\n",
    "df.shape, df_subset.shape"
   ]
  },
  {
   "cell_type": "code",
   "execution_count": null,
   "metadata": {},
   "outputs": [],
   "source": [
    "# remove potential contamination\n",
    "bacteria_list = [x for x in df_subset['ssu_silva_taxonomy'].unique().tolist() if 'Salmonella' in x]\n",
    "len(bacteria_list)"
   ]
  },
  {
   "cell_type": "markdown",
   "metadata": {},
   "source": [
    "### Cross-map 16S rRNA sequences using SILVA taxonomy\n",
    "- Download all the SILVA 16S rRNA sequences (SILVA identifier, NCBI taxonomy and the sequence).\n",
    "- Keep only the sequences with matching NCBI taxonomy to the GTDB S. enterica genomes\n",
    "- Remove uncommon 16S rRNA sequences by keeping only the sequences with length between 1,500 and 1,600 bp. (The sequence length for the representative 16S rRNA sequence from GTDB S. enterica genome is 1,542 bp)."
   ]
  },
  {
   "cell_type": "code",
   "execution_count": null,
   "metadata": {},
   "outputs": [],
   "source": [
    "from Bio import SeqIO\n",
    "\n",
    "silva_sequences = \"/temp/arb-silva.de_2024-07-09_id1336908_tax_silva_trunc.fasta\"\n",
    "\n",
    "# bacteria_list contains the list of bacteria strains of interest\n",
    "def is_strain_of_interest(description):\n",
    "    for strain in bacteria_list:\n",
    "        if strain in description:\n",
    "            return True\n",
    "    return False\n",
    "\n",
    "filtered_sequences = []\n",
    "for record in SeqIO.parse(silva_sequences, \"fasta\"):\n",
    "    if is_strain_of_interest(record.description):\n",
    "        if 1500 <= len(record.seq) <= 1600:\n",
    "            filtered_sequences.append(record)\n",
    "\n",
    "salmonella_16S_fasta = \"S_enterica_16S_rRNA_filtered.fasta\"\n",
    "with open(salmonella_16S_fasta, \"w\") as output_handle:\n",
    "    SeqIO.write(filtered_sequences, output_handle, \"fasta\")"
   ]
  },
  {
   "cell_type": "markdown",
   "metadata": {},
   "source": [
    "### Extract plasmid sequences from IMG/PR database\n",
    "- Plasmid sequences used for training the original Evo model were extracted from the IMG/PR database.\n",
    "- Download the IMG/PR plasmid metadata and sequences from the [JGI IMG/PR FTP server](https://genome.jgi.doe.gov/portal/IMG_PR/IMG_PR.home.html).\n",
    "- Filter plasmid sequences where the inferred host taxonomy matches the NCBI taxonomy for *S. enterica*."
   ]
  },
  {
   "cell_type": "code",
   "execution_count": null,
   "metadata": {},
   "outputs": [],
   "source": [
    "plasmid_metadata = \"/temp/opengenome/IMG_PR/IMG_VR_2023-08-08_1/IMGPR_plasmid_data.tsv\"\n",
    "plasmid_df = pd.read_csv(plasmid_metadata, sep=\"\\t\", header=0)\n",
    "plasmid_df.head()"
   ]
  },
  {
   "cell_type": "code",
   "execution_count": null,
   "metadata": {},
   "outputs": [],
   "source": [
    "salmonella_plasmid = plasmid_df[plasmid_df['host_taxonomy'] == ncbi_taxonomy]\n",
    "salmonella_plasmid.shape"
   ]
  },
  {
   "cell_type": "markdown",
   "metadata": {},
   "source": [
    "### Extract the plasmid sequences from IMG/PR database"
   ]
  },
  {
   "cell_type": "code",
   "execution_count": null,
   "metadata": {},
   "outputs": [],
   "source": [
    "# Keep the plasmid sequences with length < 100_000 bp\n",
    "salmonella_plasmid_filtered = salmonella_plasmid[salmonella_plasmid['length'] < 100_000]\n",
    "salmonella_plasmid_filtered.shape"
   ]
  },
  {
   "cell_type": "code",
   "execution_count": null,
   "metadata": {},
   "outputs": [],
   "source": [
    "# read the plasmid sequences from fasta file\n",
    "salmonella_plasmid_filtered['plasmid_id'].to_csv(\"salmonella_plasmid_list.txt\", index=False, header=False)"
   ]
  },
  {
   "cell_type": "code",
   "execution_count": null,
   "metadata": {},
   "outputs": [],
   "source": [
    "# Extract sequences in the plasmid list from the IMG/PR plasmid sequences\n",
    "# plasmid_sequences = \"IMG_PR/IMG_VR_2023-08-08_1/IMGPR_nucl.fna.gz\"\n",
    "# salmonella_plasma_fasta = \"salmonella_plasmid_sequences.fasta\"\n",
    "# !seqkit grep -nrif salmonella_plasmid_list.txt $plasmid_sequences > $salmonella_plasma_fasta"
   ]
  },
  {
   "cell_type": "markdown",
   "metadata": {},
   "source": [
    "### Sample 16S rRNA and plasmid sequences to create syntethic sequences\n",
    "- Randomly sample 16S rRNA and plasmid sequences from the SILVA 16S rRNA sequences and IMG/PR plasmid sequences, respectively.\n",
    "- Create synthetic sequences by concatenating the 16S rRNA and plasmid sequences. Split the combined sequence into prompt and response sequences by randomly selecting a position in the sequence."
   ]
  },
  {
   "cell_type": "code",
   "execution_count": null,
   "metadata": {},
   "outputs": [],
   "source": [
    "# salmonella_16S_fasta = \"S_enterica_16S_rRNA_filtered.fasta\"\n",
    "# salmonella_plasma_fasta = \"salmonella_plasmid_sequences.fasta\""
   ]
  },
  {
   "cell_type": "code",
   "execution_count": null,
   "metadata": {},
   "outputs": [],
   "source": [
    "import random\n",
    "import json\n",
    "from Bio import SeqIO\n",
    "\n",
    "def get_random_sequence(fasta_file):\n",
    "    sequences = list(SeqIO.parse(fasta_file, \"fasta\"))\n",
    "    return random.choice(sequences)\n",
    "\n",
    "def generate_random_sequences(num_sequences):\n",
    "    sampled_data = []\n",
    "    for _ in range(num_sequences):\n",
    "        # Get one random sequence from each file\n",
    "        s_enterica_seq = get_random_sequence(salmonella_16S_fasta)\n",
    "        plasmid_seq = get_random_sequence(salmonella_plasma_fasta)\n",
    "\n",
    "        combined_seq = s_enterica_seq.seq + plasmid_seq.seq\n",
    "        combined_length = len(combined_seq)\n",
    "\n",
    "        # Arbitrary split point\n",
    "        split_ratio = random.uniform(0.5, 0.8)\n",
    "        split_point = int(split_ratio * combined_length)\n",
    "\n",
    "        first_part = str(combined_seq[:split_point])\n",
    "        second_part = str(combined_seq[split_point:])\n",
    "\n",
    "        plasmid_id = plasmid_seq.id.split('|')[0]\n",
    "        species_prefix = \"d__Bacteria;p__Proteobacteria;c__Gammaproteobacteria;o__Enterobacterales;f__Enterobacteriaceae;g__Salmonella;s__Salmonella enterica\"\n",
    "        strain_taxonomy = s_enterica_seq.description.split(\" \", 1)[1]\n",
    "\n",
    "        json_object = {\n",
    "            \"species_prefix\": species_prefix,\n",
    "            \"16S_strain_taxonomy\": strain_taxonomy,\n",
    "            \"plasmid_id\": plasmid_id,\n",
    "            \"sequence_prompt\": first_part,\n",
    "            \"sequence_completion\": second_part\n",
    "        }\n",
    "\n",
    "        sampled_data.append(json_object)\n",
    "\n",
    "    output_json_file = \"salmonella_cb_dataset.json\"\n",
    "    with open(output_json_file, \"w\") as json_file:\n",
    "        json.dump(sampled_data, json_file, indent=4)\n",
    "\n",
    "num_synthetic_seqs = 1000\n",
    "generate_random_sequences(num_synthetic_seqs)"
   ]
  }
 ],
 "metadata": {
  "kernelspec": {
   "display_name": "torch",
   "language": "python",
   "name": "python3"
  },
  "language_info": {
   "codemirror_mode": {
    "name": "ipython",
    "version": 3
   },
   "file_extension": ".py",
   "mimetype": "text/x-python",
   "name": "python",
   "nbconvert_exporter": "python",
   "pygments_lexer": "ipython3",
   "version": "3.8.18"
  }
 },
 "nbformat": 4,
 "nbformat_minor": 2
}
