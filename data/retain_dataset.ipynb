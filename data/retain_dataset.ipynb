{
 "cells": [
  {
   "cell_type": "markdown",
   "metadata": {},
   "source": [
    "## Retain Dataset\n",
    "- Select non-Salmonella enterica sequences from the 16S rRNA and plasmid datasets.\n",
    "- Focus on bacterial species with most frequently observed plasmids (i.e., the most common host species in the IMG/PR dataset).\n",
    "- Filter out very long plasmid sequences with length > 100,000 bp."
   ]
  },
  {
   "cell_type": "markdown",
   "metadata": {},
   "source": [
    "| Species name   | Description                        |\n",
    "|----------------|------------------------------------|\n",
    "| Staphylococcus aureus     | Causative agent for Staph infections           |\n",
    "| Klebsiella pneumoniae     |  Usually harmless in intestines but can cause serious infections in the lungs and kidneys           |\n",
    "| Escherichia coli      | Mostly harmless but some strains can cause food poisoning           |\n",
    "| Pseudomonas aeruginosa      | An opportunistic pathogen that causes a wide range of infections in humans and animals           |\n",
    "| Yersinia pestis      |  Responsible for plague          |\n",
    "| Bifidobacterium longum      | Non-pathogenic probiotic bacteria           |\n",
    "| Lactococcus lactis      | Lactic acid bacteria widely used in dairy industry           |"
   ]
  },
  {
   "cell_type": "code",
   "execution_count": null,
   "metadata": {},
   "outputs": [],
   "source": [
    "ssu_fasta_dir = \"/temp/evo-circuit-breaker/data/ssu_fasta/\"\n",
    "plasmid_fasta_dir = \"/temp/evo-circuit-breaker/data/plasmid_fasta/\"\n",
    "\n",
    "retain_species = ['S.aureus', 'E.coli', 'B.longum', 'P.aeruginosa', 'K.pneumoniae', 'Y.pestis', 'L.lactis']\n",
    "\n",
    "species_to_prefix = {'S.aureus': 'd__Bacteria;p__Firmicutes;c__Bacilli;o__Staphylococcales;f__Staphylococcaceae;g__Staphylococcus;s__Staphylococcus aureus',\n",
    "                     'E.coli': 'd__Bacteria;p__Proteobacteria;c__Gammaproteobacteria;o__Enterobacterales;f__Enterobacteriaceae;g__Escherichia;s__Escherichia coli',\n",
    "                     'B.longum': 'd__Bacteria;p__Actinobacteriota;c__Actinomycetia;o__Actinomycetales;f__Bifidobacteriaceae;g__Bifidobacterium;s__Bifidobacterium longum',\n",
    "                     'P.aeruginosa': 'd__Bacteria;p__Proteobacteria;c__Gammaproteobacteria;o__Pseudomonadales;f__Pseudomonadaceae;g__Pseudomonas;s__Pseudomonas aeruginosa',\n",
    "                     'K.pneumoniae': 'd__Bacteria;p__Proteobacteria;c__Gammaproteobacteria;o__Enterobacterales;f__Enterobacteriaceae;g__Klebsiella;s__Klebsiella pneumoniae',\n",
    "                     'Y.pestis': 'd__Bacteria;p__Proteobacteria;c__Gammaproteobacteria;o__Enterobacterales;f__Enterobacteriaceae;g__Yersinia;s__Yersinia pestis',\n",
    "                     'L.lactis': 'd__Bacteria;p__Firmicutes;c__Bacilli;o__Lactobacillales;f__Streptococcaceae;g__Lactococcus;s__Lactococcus lactis'}\n"
   ]
  },
  {
   "cell_type": "code",
   "execution_count": null,
   "metadata": {},
   "outputs": [],
   "source": [
    "import random\n",
    "import json\n",
    "from Bio import SeqIO\n",
    "\n",
    "def get_random_species():\n",
    "    return random.choice(retain_species)\n",
    "\n",
    "def get_random_sequence(fasta_file):\n",
    "    sequences = list(SeqIO.parse(fasta_file, \"fasta\"))\n",
    "    return random.choice(sequences)\n",
    "\n",
    "def generate_random_sequences(num_sequences):\n",
    "    sampled_data = []\n",
    "    for _ in range(num_sequences):\n",
    "        species = get_random_species()\n",
    "        # Get one random sequence from each file\n",
    "        ssu_seq = get_random_sequence(ssu_fasta_dir + species + \".ssu.fasta\")\n",
    "        plasmid_seq = get_random_sequence(plasmid_fasta_dir + species + \".plasmid.fasta\")\n",
    "\n",
    "        combined_seq = ssu_seq.seq + plasmid_seq.seq\n",
    "        combined_length = len(combined_seq)\n",
    "\n",
    "        # Arbitrary split point\n",
    "        split_ratio = random.uniform(0.5, 0.8)\n",
    "        split_point = int(split_ratio * combined_length)\n",
    "\n",
    "        first_part = str(combined_seq[:split_point])\n",
    "        second_part = str(combined_seq[split_point:])\n",
    "\n",
    "        plasmid_id = plasmid_seq.id.split('|')[0]\n",
    "        species_prefix = species_to_prefix[species]\n",
    "        strain_taxonomy = ssu_seq.description.split(\" \", 1)[1]\n",
    "\n",
    "        json_object = {\n",
    "            \"species_prefix\": species_prefix,\n",
    "            \"16S_strain_taxonomy\": strain_taxonomy,\n",
    "            \"plasmid_id\": plasmid_id,\n",
    "            \"sequence_prompt\": first_part,\n",
    "            \"sequence_completion\": second_part\n",
    "        }\n",
    "\n",
    "        sampled_data.append(json_object)\n",
    "\n",
    "    output_json_file = \"salmonella_retain_dataset.json\"\n",
    "    with open(output_json_file, \"w\") as json_file:\n",
    "        json.dump(sampled_data, json_file, indent=4)\n",
    "\n",
    "num_synthetic_seqs = 1000\n",
    "generate_random_sequences(num_synthetic_seqs)"
   ]
  },
  {
   "cell_type": "code",
   "execution_count": null,
   "metadata": {},
   "outputs": [],
   "source": [
    "import pandas as pd\n",
    "from datasets import Dataset, DatasetDict\n",
    "\n",
    "with open('salmonella_cb_dataset.json', 'r') as f:\n",
    "    circuit_breaker_data = json.load(f)\n",
    "\n",
    "with open('salmonella_retain_dataset.json', 'r') as f:\n",
    "    retain_data = json.load(f)\n",
    "\n",
    "circuit_breaker_df = pd.DataFrame(circuit_breaker_data)\n",
    "retain_df = pd.DataFrame(retain_data)\n",
    "\n",
    "circuit_breaker_dataset = Dataset.from_pandas(circuit_breaker_df)\n",
    "retain_dataset = Dataset.from_pandas(retain_df)\n",
    "\n",
    "datasets = DatasetDict({\n",
    "    \"circuit_breaker\": circuit_breaker_dataset,\n",
    "    \"retain\": retain_dataset\n",
    "})\n",
    "\n",
    "# Push the datasets to the Hugging Face Hub\n",
    "datasets.push_to_hub(\"onuralp/evo-circuit-breaker\")"
   ]
  },
  {
   "cell_type": "code",
   "execution_count": null,
   "metadata": {},
   "outputs": [],
   "source": []
  }
 ],
 "metadata": {
  "kernelspec": {
   "display_name": "torch",
   "language": "python",
   "name": "python3"
  },
  "language_info": {
   "codemirror_mode": {
    "name": "ipython",
    "version": 3
   },
   "file_extension": ".py",
   "mimetype": "text/x-python",
   "name": "python",
   "nbconvert_exporter": "python",
   "pygments_lexer": "ipython3",
   "version": "3.8.18"
  }
 },
 "nbformat": 4,
 "nbformat_minor": 2
}
