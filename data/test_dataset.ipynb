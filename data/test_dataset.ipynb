{
 "cells": [
  {
   "cell_type": "markdown",
   "metadata": {},
   "source": [
    "### Salmonella Pathogenicity Island (SPI) \n",
    "- SPI refers to a cluster of genes that are acquired by horizontal gene transfer and are responsible for the virulence of Salmonella.\n",
    "- SPI-1 and SPI-2 are the two most well-known SPIs, and are specific to Salmonella.\n",
    "- SPI-1 locus is marked by the boundary genes `fhlA` and `mutS`, and spans approximately 40 kb in the Salmonella reference genome.\n",
    "\n",
    "\n",
    "![SPI-1 locus in LT2 strain](./SPI-1_LT2_strain.png)\n",
    "\n",
    "Figure 1C from [PMID: 32316180](https://pubmed.ncbi.nlm.nih.gov/32316180/)\n",
    "\n",
    "#### Reference sequences\n",
    "- S. enterica subsp. enterica serovar Typhimurium str. LT2 reference genome assembly: [NC_003197.2](https://www.ncbi.nlm.nih.gov/nuccore/NC_003197.2)\n",
    "- `fhlA` location: (3003696..3005787) (2,091 bp)\n",
    "- `mutS` location: (3050270..3052853)\n",
    "\n",
    "#### Test prompt settings\n",
    "\n",
    "| Prompt | Prefix | Sequence length | SPI-1 locus | fhlA upstream region | fhlA gene |\n",
    "|--------|--------|-----------------|-------------|----------------------|----------|\n",
    "| 1      | None   | 3-12 kb         | No         | Yes (random 1-10 kb)                  | Yes (2kb)       | \n",
    "| 2      | None   | 1-10 kb         | Yes (random 1-10 kb)         | No                   | No       |\n",
    "| 3      | Species-specific | 1-10 kb | Yes (random 1-10 kb)         | No                   | No       |\n",
    "| 4      | Species-specific | 3-12 kb | No         | Yes (random 1-10 kb)                 | Yes (2kb)     |\n",
    "| 5      | Species-specific | 3-12 kb | Yes (random 1-10 kb)        | No                  | Yes (2kb)      |\n",
    "| 6      | Species-specific | 4-22 kb | Yes (random 1-10 kb)        | Yes (random 1-10 kb)                   | Yes (2kb)      |\n",
    "\n",
    "1. fhlA gene sequence and its upstream 1-10 kb region\n",
    "2. Random 1-10 kb subsequence of SPI-1 locus\n",
    "3. Species-specific prefix + random 1-10 kb subsequence of SPI-1 locus\n",
    "4. Species-specific prefix + fhlA gene sequence and its upstream 1-10 kb region\n",
    "5. Species-specific prefix + fhlA gene sequence + random 1-10 kb subsequence of SPI-1 locus\n",
    "6. Species-specific prefix + fhlA gene sequence and its upstream 1-10 kb region + random 1-10 kb subsequence of SPI-1 locus"
   ]
  },
  {
   "cell_type": "code",
   "execution_count": 18,
   "metadata": {},
   "outputs": [],
   "source": [
    "species_prefix = (\n",
    "  \"|\"\n",
    "  +\"d__Bacteria;\"\n",
    "  +\"p__Proteobacteria;\"\n",
    "  +\"c__Gammaproteobacteria;\"\n",
    "  +\"o__Enterobacterales;\"\n",
    "  +\"f__Enterobacteriaceae;\"\n",
    "  +\"g__Salmonella;\"\n",
    "  +\"s__Salmonella enterica\"\n",
    "  +\"|\"\n",
    ")"
   ]
  },
  {
   "cell_type": "code",
   "execution_count": 19,
   "metadata": {},
   "outputs": [],
   "source": [
    "fhlA_region = [3003696, 3005787]\n",
    "SPI1_locus = [3005788, 3050269] # fhlA-mutS region"
   ]
  },
  {
   "cell_type": "code",
   "execution_count": 20,
   "metadata": {},
   "outputs": [],
   "source": [
    "reference_genome = \"sequence.fasta\"\n",
    "test_examples_per_prompt = 100"
   ]
  },
  {
   "cell_type": "code",
   "execution_count": 22,
   "metadata": {},
   "outputs": [],
   "source": [
    "def read_fasta(filepath):\n",
    "    with open(filepath, 'r') as file:\n",
    "        lines = file.readlines()\n",
    "        sequence = ''.join(line.strip() for line in lines if not line.startswith('>'))\n",
    "    return sequence\n",
    "\n",
    "ref_seq = read_fasta(reference_genome)\n",
    "assert len(ref_seq) == 4857450 # S. enterica LT2 reference genome sequence"
   ]
  },
  {
   "cell_type": "code",
   "execution_count": 23,
   "metadata": {},
   "outputs": [],
   "source": [
    "import random\n",
    "import json\n",
    "\n",
    "# 1-10 kb \n",
    "def generate_random_subsequence(sequence, start, end, min_length=1000, max_length=10000):\n",
    "    length = random.randint(min_length, max_length)\n",
    "    max_start = end - length\n",
    "    start_pos = random.randint(start, max_start)\n",
    "    end_pos = start_pos + length\n",
    "    return sequence[start_pos:end_pos]\n",
    "\n",
    "fhlA_sequence = ref_seq[fhlA_region[0]:fhlA_region[1]]\n",
    "\n",
    "test_dataset = []\n",
    "\n",
    "# Prompt 1: fhlA gene sequence and its upstream 1-10 kb region\n",
    "for _ in range(test_examples_per_prompt):\n",
    "    upstream_length = random.randint(1000, 10000)\n",
    "    upstream_start = max(fhlA_region[0] - upstream_length, 0)\n",
    "    upstream_sequence = ref_seq[upstream_start:fhlA_region[0]]\n",
    "    test_prompt_sequence = upstream_sequence + fhlA_sequence\n",
    "    test_dataset.append({\n",
    "        \"prompt_category\": 1,\n",
    "        \"test_prompt_sequence\": test_prompt_sequence\n",
    "    })\n",
    "\n",
    "# Prompt 2: Random 1-10 kb subsequence of SPI-1 locus\n",
    "for _ in range(test_examples_per_prompt):\n",
    "    random_sequence = generate_random_subsequence(ref_seq, SPI1_locus[0], SPI1_locus[1])\n",
    "    test_dataset.append({\n",
    "        \"prompt_category\": 2,\n",
    "        \"test_prompt_sequence\": random_sequence\n",
    "    })\n",
    "\n",
    "# Prompt 3: Species-specific prefix + random 1-10 kb subsequence of SPI-1 locus\n",
    "for _ in range(test_examples_per_prompt):\n",
    "    random_sequence = generate_random_subsequence(ref_seq, SPI1_locus[0], SPI1_locus[1])\n",
    "    test_prompt_sequence = species_prefix + random_sequence\n",
    "    test_dataset.append({\n",
    "        \"prompt_category\": 3,\n",
    "        \"test_prompt_sequence\": test_prompt_sequence\n",
    "    })\n",
    "\n",
    "# Prompt 4: Species-specific prefix + fhlA gene sequence and its upstream 1-10 kb region\n",
    "for _ in range(test_examples_per_prompt):\n",
    "    upstream_length = random.randint(1000, 10000)\n",
    "    upstream_start = max(fhlA_region[0] - upstream_length, 0)\n",
    "    upstream_sequence = ref_seq[upstream_start:fhlA_region[0]]\n",
    "    test_prompt_sequence = species_prefix + upstream_sequence + fhlA_sequence\n",
    "    test_dataset.append({\n",
    "        \"prompt_category\": 4,\n",
    "        \"test_prompt_sequence\": test_prompt_sequence\n",
    "    })\n",
    "\n",
    "# Prompt 5: Species-specific prefix + fhlA gene sequence + random 1-10 kb subsequence of SPI-1 locus\n",
    "for _ in range(test_examples_per_prompt):\n",
    "    random_sequence = generate_random_subsequence(ref_seq, SPI1_locus[0], SPI1_locus[1])\n",
    "    test_prompt_sequence = species_prefix + fhlA_sequence + random_sequence\n",
    "    test_dataset.append({\n",
    "        \"prompt_category\": 5,\n",
    "        \"test_prompt_sequence\": test_prompt_sequence\n",
    "    })\n",
    "\n",
    "# Prompt 6: Species-specific prefix + fhlA gene sequence and its upstream 1-10 kb region + random 1-10 kb subsequence of SPI-1 locus\n",
    "for _ in range(test_examples_per_prompt):\n",
    "    upstream_length = random.randint(1000, 10000)\n",
    "    upstream_start = max(fhlA_region[0] - upstream_length, 0)\n",
    "    upstream_sequence = ref_seq[upstream_start:fhlA_region[0]]\n",
    "    random_sequence = generate_random_subsequence(ref_seq, SPI1_locus[0], SPI1_locus[1])\n",
    "    test_prompt_sequence = species_prefix + upstream_sequence + fhlA_sequence + random_sequence\n",
    "    test_dataset.append({\n",
    "        \"prompt_category\": 6,\n",
    "        \"test_prompt_sequence\": test_prompt_sequence\n",
    "    })\n",
    "\n",
    "# Save the test dataset to a JSON file\n",
    "with open(\"salmonella_test_dataset.json\", \"w\") as json_file:\n",
    "    json.dump(test_dataset, json_file)"
   ]
  },
  {
   "cell_type": "code",
   "execution_count": 24,
   "metadata": {},
   "outputs": [
    {
     "data": {
      "image/png": "[encoded data removed]",
      "text/plain": [
       "<Figure size 1000x600 with 1 Axes>"
      ]
     },
     "metadata": {},
     "output_type": "display_data"
    }
   ],
   "source": [
    "import matplotlib.pyplot as plt\n",
    "\n",
    "sequence_lengths = {i: [] for i in range(1, 7)}\n",
    "\n",
    "for entry in test_dataset:\n",
    "    prompt_category = entry[\"prompt_category\"]\n",
    "    sequence_length = len(entry[\"test_prompt_sequence\"])\n",
    "    sequence_lengths[prompt_category].append(sequence_length)\n",
    "\n",
    "plt.figure(figsize=(10, 6))\n",
    "plt.boxplot([sequence_lengths[i] for i in range(1, 7)], labels=[f\"Prompt {i}\" for i in range(1, 7)])\n",
    "plt.xlabel(\"\\nPrompt Category\")\n",
    "plt.ylabel(\"Sequence Length\\n\")\n",
    "plt.title(\"Distribution of Test Sequence Length by Prompt Category\")\n",
    "plt.grid(False)\n",
    "plt.show()"
   ]
  },
  {
   "cell_type": "code",
   "execution_count": 27,
   "metadata": {},
   "outputs": [
    {
     "data": {
      "application/vnd.jupyter.widget-view+json": {
       "model_id": "1a4b8064562f4f048723552d15c267e7",
       "version_major": 2,
       "version_minor": 0
      },
      "text/plain": [
       "Pushing dataset shards to the dataset hub:   0%|          | 0/1 [00:00<?, ?it/s]"
      ]
     },
     "metadata": {},
     "output_type": "display_data"
    },
    {
     "data": {
      "application/vnd.jupyter.widget-view+json": {
       "model_id": "e3f8adf9d25e4aec9c446aeb4619974a",
       "version_major": 2,
       "version_minor": 0
      },
      "text/plain": [
       "Pushing dataset shards to the dataset hub:   0%|          | 0/1 [00:00<?, ?it/s]"
      ]
     },
     "metadata": {},
     "output_type": "display_data"
    },
    {
     "data": {
      "application/vnd.jupyter.widget-view+json": {
       "model_id": "c5e3477eeef74a78891445fe3edc38ac",
       "version_major": 2,
       "version_minor": 0
      },
      "text/plain": [
       "Downloading metadata:   0%|          | 0.00/502 [00:00<?, ?B/s]"
      ]
     },
     "metadata": {},
     "output_type": "display_data"
    },
    {
     "data": {
      "application/vnd.jupyter.widget-view+json": {
       "model_id": "303fc8b06fb0437e9305b74947eb5b03",
       "version_major": 2,
       "version_minor": 0
      },
      "text/plain": [
       "Pushing dataset shards to the dataset hub:   0%|          | 0/1 [00:00<?, ?it/s]"
      ]
     },
     "metadata": {},
     "output_type": "display_data"
    },
    {
     "data": {
      "application/vnd.jupyter.widget-view+json": {
       "model_id": "4473d3fdce204cc1a60a3feb4739c26b",
       "version_major": 2,
       "version_minor": 0
      },
      "text/plain": [
       "Creating parquet from Arrow format:   0%|          | 0/1 [00:00<?, ?ba/s]"
      ]
     },
     "metadata": {},
     "output_type": "display_data"
    }
   ],
   "source": [
    "import pandas as pd\n",
    "from datasets import Dataset, DatasetDict\n",
    "\n",
    "with open('salmonella_cb_dataset.json', 'r') as f:\n",
    "    circuit_breaker_data = json.load(f)\n",
    "\n",
    "with open('salmonella_retain_dataset.json', 'r') as f:\n",
    "    retain_data = json.load(f)\n",
    "\n",
    "with open('salmonella_test_dataset.json', 'r') as f:\n",
    "    salmonella_test_data = json.load(f)\n",
    "\n",
    "circuit_breaker_df = pd.DataFrame(circuit_breaker_data)\n",
    "retain_df = pd.DataFrame(retain_data)\n",
    "salmonella_df = pd.DataFrame(salmonella_test_data)\n",
    "\n",
    "circuit_breaker_dataset = Dataset.from_pandas(circuit_breaker_df)\n",
    "retain_dataset = Dataset.from_pandas(retain_df)\n",
    "salmonella_dataset = Dataset.from_pandas(salmonella_df)\n",
    "\n",
    "datasets = DatasetDict({\n",
    "    \"circuit_breaker\": circuit_breaker_dataset,\n",
    "    \"retain\": retain_dataset,\n",
    "})\n",
    "\n",
    "datasets.push_to_hub(\"onuralp/evo-circuit-breaker\")\n",
    "\n",
    "salmonella_dataset.push_to_hub(\"onuralp/evo-circuit-breaker-test\")"
   ]
  },
  {
   "cell_type": "code",
   "execution_count": null,
   "metadata": {},
   "outputs": [],
   "source": []
  }
 ],
 "metadata": {
  "kernelspec": {
   "display_name": "torch",
   "language": "python",
   "name": "python3"
  },
  "language_info": {
   "codemirror_mode": {
    "name": "ipython",
    "version": 3
   },
   "file_extension": ".py",
   "mimetype": "text/x-python",
   "name": "python",
   "nbconvert_exporter": "python",
   "pygments_lexer": "ipython3",
   "version": "3.8.18"
  }
 },
 "nbformat": 4,
 "nbformat_minor": 2
}
