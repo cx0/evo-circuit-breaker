{
 "cells": [
  {
   "cell_type": "code",
   "execution_count": 1,
   "id": "1a7cc2fd-0255-43bb-a174-78ce9e8ac36a",
   "metadata": {},
   "outputs": [
    {
     "name": "stdout",
     "output_type": "stream",
     "text": [
      "name, driver_version, memory.total [MiB]\n",
      "NVIDIA A100-SXM4-80GB, 545.23.06, 81920 MiB\n"
     ]
    }
   ],
   "source": [
    "!nvidia-smi --query-gpu=name,driver_version,memory.total --format=csv"
   ]
  },
  {
   "cell_type": "code",
   "execution_count": 2,
   "id": "a6bf1881-ea1b-48bb-9f0d-90d875e522c7",
   "metadata": {},
   "outputs": [],
   "source": [
    "%%capture\n",
    "!pip install transformers tqdm einops flash_attn"
   ]
  },
  {
   "cell_type": "code",
   "execution_count": 3,
   "id": "14f75928-a6bf-40d8-9014-b076924724bf",
   "metadata": {},
   "outputs": [],
   "source": [
    "import json\n",
    "import torch\n",
    "import random\n",
    "import numpy as np\n",
    "from transformers import AutoConfig, AutoModelForCausalLM, AutoTokenizer\n",
    "from tqdm import tqdm"
   ]
  },
  {
   "cell_type": "code",
   "execution_count": 4,
   "id": "91a5f495-97b0-495f-9bdb-d689c77f5637",
   "metadata": {},
   "outputs": [
    {
     "data": {
      "application/vnd.jupyter.widget-view+json": {
       "model_id": "ae7b3ed4b26c44058b6c03e4092739fb",
       "version_major": 2,
       "version_minor": 0
      },
      "text/plain": [
       "Loading checkpoint shards:   0%|          | 0/3 [00:00<?, ?it/s]"
      ]
     },
     "metadata": {},
     "output_type": "display_data"
    },
    {
     "name": "stdout",
     "output_type": "stream",
     "text": [
      "Model loaded successfully.\n"
     ]
    }
   ],
   "source": [
    "device = 'cuda:0'\n",
    "\n",
    "def load_evo_model():\n",
    "    model_name = \"togethercomputer/evo-1-131k-base\"\n",
    "    config = AutoConfig.from_pretrained(model_name, trust_remote_code=True, revision=\"1.1_fix\")\n",
    "    config.use_cache = True\n",
    "    config.max_seqlen = 70_000\n",
    "    #config.use_interpolated_rotary_pos_emb = False (swa_mha problem on runpod due to flash_attn?)\n",
    "\n",
    "    model = AutoModelForCausalLM.from_pretrained(\n",
    "        model_name,\n",
    "        config=config,\n",
    "        trust_remote_code=True,\n",
    "        revision=\"1.1_fix\",\n",
    "        torch_dtype=torch.bfloat16\n",
    "    )\n",
    "    \n",
    "    tokenizer = AutoTokenizer.from_pretrained(model_name, trust_remote_code=True)\n",
    "    #tokenizer.pad_token = \"X\" (check designated special tokens, N and/or X for DNA/RNA?)\n",
    "    \n",
    "    return model, tokenizer\n",
    "\n",
    "model, tokenizer = load_evo_model()\n",
    "print(\"Model loaded successfully.\")"
   ]
  },
  {
   "cell_type": "code",
   "execution_count": 5,
   "id": "b3a76ef6-02c1-4bef-b338-f8181dfe8025",
   "metadata": {},
   "outputs": [],
   "source": [
    "model = model.to(device)\n",
    "model.eval();"
   ]
  },
  {
   "cell_type": "code",
   "execution_count": 6,
   "id": "aff6d4b8-ddfc-41b2-8bdd-f0c238717eab",
   "metadata": {},
   "outputs": [],
   "source": [
    "activations = {}\n",
    "\n",
    "# hook function to extract activations\n",
    "def hook_fn(module, input, output):\n",
    "    activations[module] = output"
   ]
  },
  {
   "cell_type": "code",
   "execution_count": 7,
   "id": "cb340d18-8959-45e2-a0b1-2ef54876ace7",
   "metadata": {},
   "outputs": [
    {
     "name": "stdout",
     "output_type": "stream",
     "text": [
      "backbone.blocks.9.mlp.l1\n",
      "backbone.blocks.9.mlp.l2\n",
      "backbone.blocks.9.mlp.l3\n",
      "backbone.blocks.19.mlp.l1\n",
      "backbone.blocks.19.mlp.l2\n",
      "backbone.blocks.19.mlp.l3\n"
     ]
    }
   ],
   "source": [
    "# 32 blocks\n",
    "# target block 10 and 20 for testing\n",
    "target_linear_layers = ['backbone.blocks.9.mlp.l1','backbone.blocks.9.mlp.l2','backbone.blocks.9.mlp.l3',\n",
    "                        'backbone.blocks.19.mlp.l1','backbone.blocks.19.mlp.l2','backbone.blocks.19.mlp.l3']\n",
    "\n",
    "for name, module in model.named_modules():\n",
    "    if isinstance(module, torch.nn.Linear) and name in target_linear_layers:\n",
    "        print(name)\n",
    "        module.register_forward_hook(hook_fn)"
   ]
  },
  {
   "cell_type": "code",
   "execution_count": 8,
   "id": "410c057d-f3bd-4ca7-afa4-c972377910ae",
   "metadata": {},
   "outputs": [
    {
     "name": "stdout",
     "output_type": "stream",
     "text": [
      "Layers with hooks attached:\n",
      "backbone.blocks.9.mlp.l1\n",
      "backbone.blocks.9.mlp.l2\n",
      "backbone.blocks.9.mlp.l3\n",
      "backbone.blocks.19.mlp.l1\n",
      "backbone.blocks.19.mlp.l2\n",
      "backbone.blocks.19.mlp.l3\n"
     ]
    }
   ],
   "source": [
    "# sanity check\n",
    "# list the model layers with hooks attached\n",
    "print(\"Layers with hooks attached:\")\n",
    "for name, module in model.named_modules():\n",
    "    if hasattr(module, '_forward_hooks'):\n",
    "        if len(module._forward_hooks) > 0:\n",
    "            print(name)"
   ]
  },
  {
   "cell_type": "code",
   "execution_count": 9,
   "id": "e19783ad-35dc-4000-bd04-62f93b54383a",
   "metadata": {},
   "outputs": [],
   "source": [
    "def run_inference(prompt_seq, requested_tokens=50):\n",
    "    inputs = tokenizer(prompt_seq, return_tensors=\"pt\").input_ids\n",
    "    inputs = inputs.to(device)\n",
    "    with torch.no_grad():\n",
    "        outputs = model.generate(\n",
    "            inputs,\n",
    "            max_new_tokens=requested_tokens,\n",
    "            temperature=1.,\n",
    "            top_k=4,\n",
    "            do_sample=True\n",
    "        )\n",
    "\n",
    "    generated_seq = tokenizer.decode(outputs[0], skip_special_tokens=True)\n",
    "\n",
    "    return generated_seq, activations"
   ]
  },
  {
   "cell_type": "code",
   "execution_count": 10,
   "id": "955d85db-988d-4ae1-9007-908fca5e2815",
   "metadata": {},
   "outputs": [
    {
     "name": "stdout",
     "output_type": "stream",
     "text": [
      "Initializing inference params...\n",
      "Initializing inference params...\n",
      "Initializing inference params...\n",
      "Initializing inference params...\n",
      "Initializing inference params...\n",
      "Initializing inference params...\n"
     ]
    }
   ],
   "source": [
    "import torch\n",
    "import time\n",
    "import matplotlib.pyplot as plt\n",
    "\n",
    "# input: prompt sequence length\n",
    "# output: generated sequence length\n",
    "setups = [(1000, 100), (1000, 500), (1000, 1000), (1000, 5000), (1000, 10000), (1000, 50000)]\n",
    "\n",
    "input_lengths = []\n",
    "output_lengths = []\n",
    "times = []\n",
    "\n",
    "for input_len, output_len in setups:\n",
    "    input_sequence = ''.join(random.choices('ACGT', k=input_len))\n",
    "    torch.cuda.empty_cache()\n",
    "\n",
    "    start_time = time.time()\n",
    "    _, _ = run_inference(input_sequence, output_len)\n",
    "    end_time = time.time()\n",
    "\n",
    "    input_lengths.append(input_len)\n",
    "    output_lengths.append(output_len)\n",
    "    times.append(end_time - start_time)"
   ]
  },
  {
   "cell_type": "code",
   "execution_count": 11,
   "id": "3ac45ada-3f7c-4a52-bcf9-684e2d2c85dc",
   "metadata": {},
   "outputs": [
    {
     "data": {
      "image/png": "[encoded data removed]",
      "text/plain": [
       "<Figure size 1000x600 with 1 Axes>"
      ]
     },
     "metadata": {},
     "output_type": "display_data"
    }
   ],
   "source": [
    "plt.figure(figsize=(10, 6))\n",
    "plt.plot(output_lengths, times, marker='o')\n",
    "plt.title('Input Seq Length Fixed at 1000 nt: Inference Time vs. Output Length')\n",
    "plt.xlabel('Output Length')\n",
    "plt.ylabel('Time (seconds)')\n",
    "plt.grid(True)\n",
    "plt.show()"
   ]
  },
  {
   "cell_type": "code",
   "execution_count": 12,
   "id": "60c3d4a4-f01b-4b9d-842e-dfe4d4c8faed",
   "metadata": {},
   "outputs": [
    {
     "name": "stdout",
     "output_type": "stream",
     "text": [
      "Initializing inference params...\n"
     ]
    }
   ],
   "source": [
    "test_prompt = \"AACGTGCACTGAC\"\n",
    "generated_sequence, activations = run_inference(test_prompt, 5)"
   ]
  },
  {
   "cell_type": "code",
   "execution_count": 15,
   "id": "253dd3d9-cc5e-4cb6-8ff4-05651b53eacd",
   "metadata": {},
   "outputs": [
    {
     "name": "stdout",
     "output_type": "stream",
     "text": [
      "AACGTGCACTGAC\n",
      "AACGTGCACTGACCGAAT\n"
     ]
    }
   ],
   "source": [
    "print(f\"{test_prompt}\\n{generated_sequence}\")"
   ]
  },
  {
   "cell_type": "code",
   "execution_count": 16,
   "id": "c499a7c1-8f0c-464c-816b-9e882a465716",
   "metadata": {},
   "outputs": [],
   "source": [
    "# for layer, activation in activations.items():\n",
    "#    print(f\"Layer: {layer}, Activation shape: {activation.shape}\")"
   ]
  },
  {
   "cell_type": "markdown",
   "id": "5d600a6a-8c76-4b62-b0dc-f71da154b916",
   "metadata": {},
   "source": [
    "## Datasets"
   ]
  },
  {
   "cell_type": "code",
   "execution_count": 17,
   "id": "8b1d5e19-b729-4e17-b4f5-8be628bad690",
   "metadata": {},
   "outputs": [
    {
     "name": "stdout",
     "output_type": "stream",
     "text": [
      "Datasets loaded. CB: 10, Retain: 10, Test: 10\n"
     ]
    }
   ],
   "source": [
    "def load_datasets():\n",
    "    with open('salmonella_cb_dataset_10.json', 'r') as f:\n",
    "        cb_data = json.load(f)\n",
    "    \n",
    "    with open('salmonella_retain_dataset_10.json', 'r') as f:\n",
    "        retain_data = json.load(f)\n",
    "    \n",
    "    with open('salmonella_test_dataset_10.json', 'r') as f:\n",
    "        test_data = json.load(f)\n",
    "    \n",
    "    return cb_data, retain_data, test_data\n",
    "\n",
    "cb_data, retain_data, test_data = load_datasets()\n",
    "print(f\"Datasets loaded. CB: {len(cb_data)}, Retain: {len(retain_data)}, Test: {len(test_data)}\")"
   ]
  },
  {
   "cell_type": "code",
   "execution_count": 18,
   "id": "98535957-faf4-4467-b8ed-3d0ba0a79f46",
   "metadata": {},
   "outputs": [
    {
     "name": "stdout",
     "output_type": "stream",
     "text": [
      "{'16S_strain_taxonomy', 'sequence_completion', 'plasmid_id', 'sequence_prompt', 'species_prefix'}\n"
     ]
    }
   ],
   "source": [
    "unique_keys = {key for item in cb_data if isinstance(item, dict) for key in item.keys()}\n",
    "print(unique_keys)"
   ]
  },
  {
   "cell_type": "code",
   "execution_count": 19,
   "id": "c8bb92e0-9e61-4e59-a348-e91b16e04069",
   "metadata": {},
   "outputs": [],
   "source": [
    "cb_sample = random.choice(cb_data)\n",
    "cb_prompt = cb_sample.get('sequence_prompt', cb_sample.get('prompt', ''))\n",
    "cb_completion = cb_sample.get('sequence_completion', cb_sample.get('completion', ''))"
   ]
  },
  {
   "cell_type": "code",
   "execution_count": 20,
   "id": "ebcbefc5-7567-415d-b55f-c288e1b2cd57",
   "metadata": {},
   "outputs": [
    {
     "data": {
      "text/plain": [
       "(74203, 21325)"
      ]
     },
     "execution_count": 20,
     "metadata": {},
     "output_type": "execute_result"
    }
   ],
   "source": [
    "len(cb_prompt), len(cb_completion)"
   ]
  },
  {
   "cell_type": "code",
   "execution_count": null,
   "id": "23718d62-5448-422f-a3fd-6fdd77e1df3b",
   "metadata": {},
   "outputs": [],
   "source": []
  },
  {
   "cell_type": "code",
   "execution_count": null,
   "id": "eb1ae62f-132d-4c2c-bd3f-2aab9501c19a",
   "metadata": {},
   "outputs": [],
   "source": []
  },
  {
   "cell_type": "code",
   "execution_count": null,
   "id": "12d45248-deb1-45da-baf2-53c0711f651c",
   "metadata": {},
   "outputs": [],
   "source": []
  }
 ],
 "metadata": {
  "kernelspec": {
   "display_name": "pytorch_env",
   "language": "python",
   "name": "pytorch_env"
  },
  "language_info": {
   "codemirror_mode": {
    "name": "ipython",
    "version": 3
   },
   "file_extension": ".py",
   "mimetype": "text/x-python",
   "name": "python",
   "nbconvert_exporter": "python",
   "pygments_lexer": "ipython3",
   "version": "3.12.4"
  }
 },
 "nbformat": 4,
 "nbformat_minor": 5
}
